{
 "cells": [
  {
   "cell_type": "markdown",
   "metadata": {},
   "source": [
    "# atividade do Mateus Santiago"
   ]
  },
  {
   "cell_type": "code",
   "execution_count": 1,
   "metadata": {},
   "outputs": [],
   "source": [
    "class Node:\n",
    "    def __init__(self, data):\n",
    "        self.data = data\n",
    "        self.next = None\n",
    "\n",
    "class OrdenedList:\n",
    "    def __init__(self):\n",
    "        self.head = None\n",
    "\n",
    "    def insert(self, new_node):\n",
    "        \"\"\"\n",
    "        Insere um novo nó na lista mantendo a ordem alfabética pela descrição do produto.\n",
    "        \"\"\"\n",
    "        if self.head is None:\n",
    "            self.head = new_node\n",
    "        elif self.head.data['descricao'] > new_node.data['descricao']:\n",
    "            new_node.next = self.head\n",
    "            self.head = new_node\n",
    "        else:\n",
    "            current = self.head\n",
    "            while current.next is not None and current.next.data['descricao'] < new_node.data['descricao']:\n",
    "                current = current.next\n",
    "            new_node.next = current.next\n",
    "            current.next = new_node\n",
    "\n",
    "    def search(self, description):\n",
    "        \"\"\"\n",
    "        Busca um produto na lista pelo nome.\n",
    "        Retorna True se o produto está na lista, False caso contrário.\n",
    "        \"\"\"\n",
    "        current = self.head\n",
    "        while current is not None:\n",
    "            if current.data['descricao'] == description:\n",
    "                return True\n",
    "            current = current.next\n",
    "        return False\n",
    "\n",
    "    def remove(self, description):\n",
    "        \"\"\"\n",
    "        Remove um produto da lista pelo nome.\n",
    "        Retorna True se o produto foi removido com sucesso, False caso contrário.\n",
    "        \"\"\"\n",
    "        if self.head is None:\n",
    "            return False\n",
    "        elif self.head.data['descricao'] == description:\n",
    "            self.head = self.head.next\n",
    "            return True\n",
    "        else:\n",
    "            current = self.head\n",
    "            while current.next is not None and current.next.data['descricao'] != description:\n",
    "                current = current.next\n",
    "            if current.next is not None:\n",
    "                current.next = current.next.next\n",
    "                return True\n",
    "        return False\n"
   ]
  },
  {
   "cell_type": "code",
   "execution_count": 2,
   "metadata": {},
   "outputs": [
    {
     "name": "stdout",
     "output_type": "stream",
     "text": [
      "Lista de produtos:\n",
      "{'descricao': 'Monitor', 'preco': 300}\n",
      "{'descricao': 'Mouse', 'preco': 50}\n",
      "{'descricao': 'Teclado', 'preco': 100}\n"
     ]
    }
   ],
   "source": [
    "# Exemplo de uso\n",
    "lista = OrdenedList()\n",
    "produto1 = {'descricao': 'Mouse', 'preco': 50}\n",
    "produto2 = {'descricao': 'Teclado', 'preco': 100}\n",
    "produto3 = {'descricao': 'Monitor', 'preco': 300}\n",
    "\n",
    "lista.insert(Node(produto1))\n",
    "lista.insert(Node(produto2))\n",
    "lista.insert(Node(produto3))\n",
    "\n",
    "print(\"Lista de produtos:\")\n",
    "current = lista.head\n",
    "while current is not None:\n",
    "    print(current.data)\n",
    "    current = current.next"
   ]
  },
  {
   "cell_type": "code",
   "execution_count": null,
   "metadata": {},
   "outputs": [],
   "source": []
  }
 ],
 "metadata": {
  "kernelspec": {
   "display_name": "Python 3",
   "language": "python",
   "name": "python3"
  },
  "language_info": {
   "codemirror_mode": {
    "name": "ipython",
    "version": 3
   },
   "file_extension": ".py",
   "mimetype": "text/x-python",
   "name": "python",
   "nbconvert_exporter": "python",
   "pygments_lexer": "ipython3",
   "version": "3.12.3"
  }
 },
 "nbformat": 4,
 "nbformat_minor": 2
}
